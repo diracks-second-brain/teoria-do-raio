{
 "cells": [
  {
   "cell_type": "markdown",
   "id": "4dceed47",
   "metadata": {},
   "source": [
    "# Cálculo variacional\n",
    "\n",
    "## Funcionais\n",
    "\n",
    "$$I=\\int_{x_1}^{x_2}F(y(x),x)dx$$\n",
    "\n",
    "O Funcional $I$ não depende de $x$, pois estamos integrando em todo $x$ e, após a integração\n",
    "o $x$ desaparece. Porém, $I$ depende do tipo de função $y$. $I$ tem um valor para cada\n",
    "função.\n",
    "\n",
    "Exemplo, considerando $y(x)=x^2$ e $x_1=1$ e $x_2=2$. Para $F(y(x),x)=xy(x)$,\n",
    "\n",
    "$$I=\\int_{1}^{2}xx^2dx=\\frac{x^4}{4}\\Big|_1^2=\\frac{2^4}{4}-\\frac{1}{4}=\\frac{15}{4}$$\n",
    "\n",
    "Se, $y(x)=x^3$,\n",
    "\n",
    "$$I=\\int_{1}^{2}xx^3=\\frac{x^5}{5}\\Big|_1^2=\\frac{2^5}{5}-\\frac{1}{5}=\\frac{31}{5}$$\n",
    "\n",
    "$I$ é uma função de outra função. $I$ é chamado de _funcional_ de $y$.\n",
    "\n",
    "## Extremos da função y(x)\n",
    "\n",
    "Para qual $x$ temos $\\delta y=0$?\n",
    "\n",
    "$$dy=y(x+dx)-y(x)$$\n",
    "\n",
    "Expandindo $y(x+dx)$ em série de Taylor:\n",
    "\n",
    "$$dy=y(x)+\\frac{dy}{dx}dx+O(x^2)-y(x)$$\n",
    "\n",
    "$$dy=\\frac{dy}{dx}dx$$\n",
    "\n",
    "Como $dx\\neq 0$, e na condição de extremo $dy=0$, temos que,\n",
    "\n",
    "$$\\frac{dy}{dx}=0$$"
   ]
  }
 ],
 "metadata": {
  "kernelspec": {
   "display_name": "Python 3 (ipykernel)",
   "language": "python",
   "name": "python3"
  },
  "language_info": {
   "codemirror_mode": {
    "name": "ipython",
    "version": 3
   },
   "file_extension": ".py",
   "mimetype": "text/x-python",
   "name": "python",
   "nbconvert_exporter": "python",
   "pygments_lexer": "ipython3",
   "version": "3.9.7"
  }
 },
 "nbformat": 4,
 "nbformat_minor": 5
}
