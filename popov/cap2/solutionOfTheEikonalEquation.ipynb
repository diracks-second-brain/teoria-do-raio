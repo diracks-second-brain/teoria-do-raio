{
 "cells": [
  {
   "cell_type": "markdown",
   "id": "29aba184",
   "metadata": {},
   "source": [
    "# Cap2 - Solution of the Eikonal equation\n",
    "\n",
    "__Princípio__ significa o início, fundamento ou essência de algum fenômeno. Também pode ser definido como a causa primária, o momento, o local ou trecho em que algo, uma ação ou conhecimento tem origem. Sendo que o princípio de algo, seja como origem ou proposição pode ser questionado.\n",
    "\n",
    "> A trajetória percorrida pela luz ao se propagar de um ponto a outro é tal que o tempo\n",
    "> gasto em percorrê-la é um mínimo\n",
    "\n",
    "> A trajetória da percorrida pela luz ao propagar-se de um ponto a outro é tal que o tempo gasto para\n",
    "> percorrê-la é estacionário a respeito das possíveis variações de sua trajetória\n"
   ]
  },
  {
   "cell_type": "markdown",
   "id": "836eb03f",
   "metadata": {},
   "source": [
    "__TODO: IMAGEM__\n",
    "\n",
    "$$\\delta L_{o_1 o_2}[n(\\vec{r})]=\\delta\\int_{o_1}^{o_2}n(\\vec{r})ds=0$$\n",
    "\n",
    "> Os trajetos próximos ao 'verdadeiro' requerem tempos aproximadamente iguais"
   ]
  }
 ],
 "metadata": {
  "kernelspec": {
   "display_name": "Python 3 (ipykernel)",
   "language": "python",
   "name": "python3"
  },
  "language_info": {
   "codemirror_mode": {
    "name": "ipython",
    "version": 3
   },
   "file_extension": ".py",
   "mimetype": "text/x-python",
   "name": "python",
   "nbconvert_exporter": "python",
   "pygments_lexer": "ipython3",
   "version": "3.8.10"
  }
 },
 "nbformat": 4,
 "nbformat_minor": 5
}
