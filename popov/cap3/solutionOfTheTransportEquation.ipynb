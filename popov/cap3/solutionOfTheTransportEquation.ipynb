{
 "cells": [
  {
   "cell_type": "markdown",
   "id": "4fc1e9a5",
   "metadata": {},
   "source": [
    "# Cap 3 - Solution of the transport equation\n",
    "\n",
    "## 3.1 Ray coordinates\n",
    "\n",
    "$$d\\tau=\\frac{ds}{C}=\\frac{\\sqrt{\\dot{x}^2+\\dot{y}^2+\\dot{z}^2}}{C}d\\sigma$$\n",
    "\n",
    "$$\\frac{d}{ds}=\\frac{1}{C}\\frac{d}{d\\tau}=\\frac{1}{\\sqrt{\\dot{x}^2+\\dot{y}^2+\\dot{z}^2}}\\frac{d}{d\\sigma}$$\n",
    "\n",
    "$$\\vec{r}=\\vec{r}(\\tau,\\alpha,\\beta)$$\n",
    "\n",
    "$$\\vec{r}=x(\\tau,\\alpha,\\beta)\\hat{i}+\n",
    "y(\\tau,\\alpha,\\beta)\\hat{j}+\n",
    "z(\\tau,\\alpha,\\beta)\\hat{k}$$\n",
    "\n",
    "__Definition:__ We say that $\\tau$, $\\alpha$, $\\beta$ form the ray coordinates in a domain $\\Omega$,\n",
    "where the central ray is regular."
   ]
  },
  {
   "cell_type": "markdown",
   "id": "f66cc774",
   "metadata": {},
   "source": [
    "## 3.2 Auxiliary formulas\n",
    "\n",
    "Dados os determinantes funcionais,\n",
    "\n",
    "$$\\begin{cases}\n",
    "x = x(\\xi,\\upsilon,\\zeta) \\\\\n",
    "y = y(\\xi,\\upsilon,\\zeta) \\\\\n",
    "z = z(\\xi,\\upsilon,\\zeta)\n",
    "\\end{cases}$$\n",
    "\n",
    "É possível encontrar?\n",
    "\n",
    "$$\\begin{cases}\n",
    "\\xi = \\xi(x,y,z) \\\\\n",
    "\\upsilon = \\upsilon(x,y,z)\\\\\n",
    "\\zeta = \\zeta(x,y,z)\n",
    "\\end{cases}$$"
   ]
  }
 ],
 "metadata": {
  "kernelspec": {
   "display_name": "Python 3 (ipykernel)",
   "language": "python",
   "name": "python3"
  },
  "language_info": {
   "codemirror_mode": {
    "name": "ipython",
    "version": 3
   },
   "file_extension": ".py",
   "mimetype": "text/x-python",
   "name": "python",
   "nbconvert_exporter": "python",
   "pygments_lexer": "ipython3",
   "version": "3.8.10"
  }
 },
 "nbformat": 4,
 "nbformat_minor": 5
}
