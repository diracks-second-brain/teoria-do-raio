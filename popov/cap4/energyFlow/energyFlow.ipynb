{
 "cells": [
  {
   "cell_type": "markdown",
   "metadata": {},
   "source": [
    "### Energy relations for the wave equation and the vector of energy flow. Law of the energy conservation"
   ]
  },
  {
   "cell_type": "markdown",
   "metadata": {},
   "source": [
    "$$\\vec{S}=-\\frac{\\partial W}{\\partial t} \\nabla W$$\n",
    "\n",
    "$$\\vec{S}=\\omega A_0 \\sin \\omega(t-\\tau).\\omega A_0 \\nabla\\tau \\sin \\omega(t-\\tau)$$\n",
    "\n",
    "$$\\vec{S}=\\omega^2 A_0^2 \\sin^2 \\omega(t-\\tau) \\nabla\\tau$$\n",
    "\n",
    "$$\\vec{S}=\\frac{\\omega^2 A_0^2}{C} \\sin^2 \\omega(t-\\tau) \\vec{t}$$\n",
    "\n",
    "Lembrando que:\n",
    "\n",
    "$$(\\nabla\\tau)^2 = \\frac{1}{C^2}$$"
   ]
  }
 ],
 "metadata": {
  "kernelspec": {
   "display_name": "Python 3",
   "language": "python",
   "name": "python3"
  },
  "language_info": {
   "codemirror_mode": {
    "name": "ipython",
    "version": 3
   },
   "file_extension": ".py",
   "mimetype": "text/x-python",
   "name": "python",
   "nbconvert_exporter": "python",
   "pygments_lexer": "ipython3",
   "version": "3.8.2"
  }
 },
 "nbformat": 4,
 "nbformat_minor": 2
}
