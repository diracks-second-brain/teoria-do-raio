{
 "cells": [
  {
   "cell_type": "markdown",
   "id": "57a36f78",
   "metadata": {},
   "source": [
    "### Oque é uma aproximação paraxial?\n",
    "\n",
    "Na óptica geométrica, a aproximação paraxial é uma aproximação de pequenos ângulos, usado na óptica gaussiana\n",
    "e no traçamento de raios quando o raio passa por um sistema óptico\n",
    "\n",
    "### Oque é um sistema óptico?\n",
    "\n",
    "É qualquer superfície (ou conjunto delas) que interage diretamente com a luz\n",
    "\n",
    "### Oque é um raio ou feixe paraxial?\n",
    "\n",
    "É um raio que faz um pequeno ângulo com o eixo óptico do sistema durante todo o trajeto deste. Isto significa que,\n",
    "em qualquer ponto do sistema óptico, teremos um pequeno ângulo do raio em relação ao eixo óptico.\n",
    "\n",
    "__Neste limite são válidas as aproximações:__\n",
    "\n",
    "$$\\sin\\theta\\approx\\theta$$\n",
    "\n",
    "$$\\tan\\theta\\approx\\theta$$\n",
    "\n",
    "$$\\cos\\theta\\approx1$$\n",
    "\n",
    "__Neste limite são válidas as seguintes aproximações:__\n",
    "\n",
    "$$\\cos\\theta\\approx1-\\frac{\\theta^2}{2}$$\n",
    "\n",
    "__TODO IMAGEM COORDENADAS CENTRADAS NO RAIO__\n",
    "\n",
    "### Coordenadas centradas no raio\n",
    "\n",
    "Coordenadas centradas no raio na vizinhança de um raio $\\vec{r_0}(s)$.\n",
    "\n",
    "$$\\vec{r}=\\vec{r_0}(s)=x(s)\\hat{i}+y(s)\\hat{j}+z(s)\\hat{k}$$\n",
    "\n",
    "__TODO TUBO DE RAIOS__\n",
    "\n",
    "Paraxial (para = cerca de; axial = eixo, central)"
   ]
  }
 ],
 "metadata": {
  "kernelspec": {
   "display_name": "Python 3 (ipykernel)",
   "language": "python",
   "name": "python3"
  },
  "language_info": {
   "codemirror_mode": {
    "name": "ipython",
    "version": 3
   },
   "file_extension": ".py",
   "mimetype": "text/x-python",
   "name": "python",
   "nbconvert_exporter": "python",
   "pygments_lexer": "ipython3",
   "version": "3.8.10"
  }
 },
 "nbformat": 4,
 "nbformat_minor": 5
}
