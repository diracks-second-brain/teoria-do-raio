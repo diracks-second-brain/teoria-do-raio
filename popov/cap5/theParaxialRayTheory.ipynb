{
 "cells": [
  {
   "cell_type": "markdown",
   "id": "53df1815",
   "metadata": {},
   "source": [
    "# 5 - The paraxial ray theory\n",
    "\n",
    "O objetivo deste capítulo é o estudo da equação iconal e da amplitude da série do raio na vizinhança de um\n",
    "dado raio (raio central) em um tubo de raios"
   ]
  }
 ],
 "metadata": {
  "kernelspec": {
   "display_name": "Python 3 (ipykernel)",
   "language": "python",
   "name": "python3"
  },
  "language_info": {
   "codemirror_mode": {
    "name": "ipython",
    "version": 3
   },
   "file_extension": ".py",
   "mimetype": "text/x-python",
   "name": "python",
   "nbconvert_exporter": "python",
   "pygments_lexer": "ipython3",
   "version": "3.8.10"
  }
 },
 "nbformat": 4,
 "nbformat_minor": 5
}
