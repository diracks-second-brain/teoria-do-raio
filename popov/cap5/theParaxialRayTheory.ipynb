{
 "cells": [
  {
   "cell_type": "markdown",
   "id": "53df1815",
   "metadata": {},
   "source": [
    "# 5 The paraxial ray theory\n",
    "\n",
    "O objetivo deste capítulo é o estudo da equação iconal e da amplitude da série do raio na vizinhança de um\n",
    "dado raio (raio central) em um tubo de raios\n",
    "\n",
    "## 5.1 Ray centered coordinates\n",
    "\n",
    "__IMAGEM COORDENADAS CENTRADAS NO RAIO__\n",
    "\n",
    "$$\\vec{r_M}=\\vec{r_0}(s)+q_1\\vec{e_1}(s)+q_2\\vec{e_2}(s)$$\n",
    "\n",
    "$$dS^2=d\\vec{r_M}\\cdot d\\vec{r_M}=|d\\vec{r_M}|^2$$\n",
    "\n",
    "Assim,\n",
    "\n",
    "$$d\\vec{r_M}=\\frac{d\\vec{r_0}}{ds}ds+\\frac{dq_1\\vec{e_1}}{ds}ds+\\frac{dq_2\\vec{e_2}}{ds}ds$$\n",
    "\n",
    "$$d\\vec{r_M}=\\frac{d\\vec{r_0}}{ds}ds+\\frac{dq_1}{ds}\\vec{e_1}ds\n",
    "+q_1\\frac{d\\vec{e_1}}{ds}ds+\\frac{dq_2}{ds}\\vec{e_2}ds\n",
    "+q_2\\frac{d\\vec{e_2}}{ds}ds$$\n",
    "\n",
    "Definições:\n",
    "\n",
    "$$\\vec{t}=\\frac{d\\vec{r_0}}{ds}$$\n",
    "\n",
    "$$\\frac{d\\vec{e_1}(s)}{ds}=k_1(s)\\vec{t}(s)$$\n",
    "\n",
    "$$\\frac{d\\vec{e_2}(s)}{ds}=k_2(s)\\vec{t}(s)$$"
   ]
  }
 ],
 "metadata": {
  "kernelspec": {
   "display_name": "Python 3 (ipykernel)",
   "language": "python",
   "name": "python3"
  },
  "language_info": {
   "codemirror_mode": {
    "name": "ipython",
    "version": 3
   },
   "file_extension": ".py",
   "mimetype": "text/x-python",
   "name": "python",
   "nbconvert_exporter": "python",
   "pygments_lexer": "ipython3",
   "version": "3.8.10"
  }
 },
 "nbformat": 4,
 "nbformat_minor": 5
}
